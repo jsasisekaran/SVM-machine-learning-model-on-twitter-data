{
  "nbformat": 4,
  "nbformat_minor": 0,
  "metadata": {
    "colab": {
      "name": "svm_it_emo_sentiment.ipynb",
      "provenance": [],
      "collapsed_sections": [],
      "include_colab_link": true
    },
    "kernelspec": {
      "name": "python3",
      "display_name": "Python 3"
    },
    "language_info": {
      "name": "python"
    }
  },
  "cells": [
    {
      "cell_type": "markdown",
      "metadata": {
        "id": "view-in-github",
        "colab_type": "text"
      },
      "source": [
        "<a href=\"https://colab.research.google.com/github/jsasisekaran/SVM-machine-learning-model-on-twitter-data/blob/main/svm_it_emo_sentiment.ipynb\" target=\"_parent\"><img src=\"https://colab.research.google.com/assets/colab-badge.svg\" alt=\"Open In Colab\"/></a>"
      ]
    },
    {
      "cell_type": "code",
      "execution_count": null,
      "metadata": {
        "id": "Z5MAmeQASvmF"
      },
      "outputs": [],
      "source": [
        "%matplotlib inline\n",
        "%config InlineBackend.figure_format = 'retina'\n",
        "\n",
        "import numpy as np\n",
        "import pandas as pd\n",
        "from bs4 import BeautifulSoup\n",
        "import matplotlib.pyplot as plt\n",
        "import seaborn as sns\n",
        "\n",
        "import nltk\n",
        "from nltk.corpus import stopwords\n",
        "from nltk.stem import SnowballStemmer\n",
        "from nltk.tokenize import TweetTokenizer\n",
        "\n",
        "from sklearn.feature_extraction.text import CountVectorizer, TfidfTransformer\n",
        "from sklearn.linear_model import LogisticRegression\n",
        "from sklearn.svm import SVC\n",
        "from sklearn.model_selection import train_test_split, StratifiedKFold, cross_val_score\n",
        "from sklearn.pipeline import make_pipeline, Pipeline\n",
        "from sklearn.model_selection import GridSearchCV\n",
        "from sklearn.metrics import make_scorer, accuracy_score, f1_score\n",
        "from sklearn.metrics import roc_curve, auc\n",
        "from sklearn.metrics import confusion_matrix, roc_auc_score, recall_score, precision_score\n",
        "from sklearn import svm, datasets\n",
        "import sklearn.model_selection as model_selection\n",
        "from sklearn.metrics import accuracy_score\n",
        "from sklearn.metrics import f1_score"
      ]
    },
    {
      "cell_type": "code",
      "source": [
        "data = pd.read_csv(\"file.csv\", encoding='latin-1')\n",
        "print(data)"
      ],
      "metadata": {
        "id": "zI5alH5OS2ra",
        "colab": {
          "base_uri": "https://localhost:8080/"
        },
        "outputId": "17e6dc89-f122-4a40-82fc-c3451d7b8726"
      },
      "execution_count": null,
      "outputs": [
        {
          "output_type": "stream",
          "name": "stdout",
          "text": [
            "                                                   text   Emotion Sentiment  \\\n",
            "0        andare a ricercare di continuo comunque que...     anger  negative   \n",
            "1        bisogna spegnere il pi possibile l epidemia...     anger  negative   \n",
            "2        dare ascolto ad una  a palesemente in mala ...     anger  negative   \n",
            "3        finch ne dimostra meno non gli serve il gre...     anger  negative   \n",
            "4        girano queste cose terroristiche si potrebb...     anger  negative   \n",
            "...                                                 ...       ...       ...   \n",
            "9934  vorrei sapere da dove nascono ste fregnacce de...     anger  negative   \n",
            "9935  webinar su nuove risposte sulla demenza dal lo...      fear  negative   \n",
            "9936  x giustificare il vaccino ai bimbi che in larg...     anger  negative   \n",
            "9937  xii congresso simit caltanissetta il primario ...   sadness  negative   \n",
            "9938  zangrillo la manifestazione pi grave e pericol...      fear  negative   \n",
            "\n",
            "      recode_emotion  recode_sentiment  Total  \n",
            "0                 -1                -1     -2  \n",
            "1                 -1                -1     -2  \n",
            "2                 -1                -1     -2  \n",
            "3                 -1                -1     -2  \n",
            "4                 -1                -1     -2  \n",
            "...              ...               ...    ...  \n",
            "9934              -1                -1     -2  \n",
            "9935              -1                -1     -2  \n",
            "9936              -1                -1     -2  \n",
            "9937              -1                -1     -2  \n",
            "9938              -1                -1     -2  \n",
            "\n",
            "[9939 rows x 6 columns]\n"
          ]
        }
      ]
    },
    {
      "cell_type": "code",
      "source": [
        "data = data.copy()\n",
        "print(data)"
      ],
      "metadata": {
        "id": "oTXyHUFnS81O",
        "colab": {
          "base_uri": "https://localhost:8080/"
        },
        "outputId": "bb4add06-ab8b-4975-e9a0-bf7e3d362bf8"
      },
      "execution_count": null,
      "outputs": [
        {
          "output_type": "stream",
          "name": "stdout",
          "text": [
            "                                                   text   Emotion Sentiment  \\\n",
            "0        andare a ricercare di continuo comunque que...     anger  negative   \n",
            "1        bisogna spegnere il pi possibile l epidemia...     anger  negative   \n",
            "2        dare ascolto ad una  a palesemente in mala ...     anger  negative   \n",
            "3        finch ne dimostra meno non gli serve il gre...     anger  negative   \n",
            "4        girano queste cose terroristiche si potrebb...     anger  negative   \n",
            "...                                                 ...       ...       ...   \n",
            "9934  vorrei sapere da dove nascono ste fregnacce de...     anger  negative   \n",
            "9935  webinar su nuove risposte sulla demenza dal lo...      fear  negative   \n",
            "9936  x giustificare il vaccino ai bimbi che in larg...     anger  negative   \n",
            "9937  xii congresso simit caltanissetta il primario ...   sadness  negative   \n",
            "9938  zangrillo la manifestazione pi grave e pericol...      fear  negative   \n",
            "\n",
            "      recode_emotion  recode_sentiment  Total  \n",
            "0                 -1                -1     -2  \n",
            "1                 -1                -1     -2  \n",
            "2                 -1                -1     -2  \n",
            "3                 -1                -1     -2  \n",
            "4                 -1                -1     -2  \n",
            "...              ...               ...    ...  \n",
            "9934              -1                -1     -2  \n",
            "9935              -1                -1     -2  \n",
            "9936              -1                -1     -2  \n",
            "9937              -1                -1     -2  \n",
            "9938              -1                -1     -2  \n",
            "\n",
            "[9939 rows x 6 columns]\n"
          ]
        }
      ]
    },
    {
      "cell_type": "code",
      "source": [
        "data_clean = data.copy()\n",
        "data_clean['S'] = data_clean['Total'].\\\n",
        "    apply(lambda x: 1 if x>0 else -1 if x<0 else 0)\n",
        "\n",
        "data_clean['text'] = data_clean['text'].apply(lambda x: BeautifulSoup(x, \"lxml\").text)"
      ],
      "metadata": {
        "id": "1Qr5EL5GURbN"
      },
      "execution_count": null,
      "outputs": []
    },
    {
      "cell_type": "code",
      "source": [
        "from typing import ValuesView\n",
        "data_clean.head()\n",
        "ValuesView(data_clean)\n",
        "print(data_clean)\n",
        "(data_clean)\n",
        "\n",
        "a = data_clean.to_csv('data.csv')   "
      ],
      "metadata": {
        "colab": {
          "base_uri": "https://localhost:8080/"
        },
        "id": "mwYXRx-FVBBz",
        "outputId": "267c16eb-6a89-40df-b479-0dfb15f407d1"
      },
      "execution_count": null,
      "outputs": [
        {
          "output_type": "stream",
          "name": "stdout",
          "text": [
            "                                                   text   Emotion Sentiment  \\\n",
            "0     andare a ricercare di continuo comunque quello...     anger  negative   \n",
            "1     bisogna spegnere il pi possibile l epidemia no...     anger  negative   \n",
            "2     dare ascolto ad una  a palesemente in mala fed...     anger  negative   \n",
            "3     finch ne dimostra meno non gli serve il green ...     anger  negative   \n",
            "4     girano queste cose terroristiche si potrebbe f...     anger  negative   \n",
            "...                                                 ...       ...       ...   \n",
            "9934  vorrei sapere da dove nascono ste fregnacce de...     anger  negative   \n",
            "9935  webinar su nuove risposte sulla demenza dal lo...      fear  negative   \n",
            "9936  x giustificare il vaccino ai bimbi che in larg...     anger  negative   \n",
            "9937  xii congresso simit caltanissetta il primario ...   sadness  negative   \n",
            "9938  zangrillo la manifestazione pi grave e pericol...      fear  negative   \n",
            "\n",
            "      recode_emotion  recode_sentiment  Total  S  \n",
            "0                 -1                -1     -2 -1  \n",
            "1                 -1                -1     -2 -1  \n",
            "2                 -1                -1     -2 -1  \n",
            "3                 -1                -1     -2 -1  \n",
            "4                 -1                -1     -2 -1  \n",
            "...              ...               ...    ... ..  \n",
            "9934              -1                -1     -2 -1  \n",
            "9935              -1                -1     -2 -1  \n",
            "9936              -1                -1     -2 -1  \n",
            "9937              -1                -1     -2 -1  \n",
            "9938              -1                -1     -2 -1  \n",
            "\n",
            "[9939 rows x 7 columns]\n"
          ]
        }
      ]
    },
    {
      "cell_type": "code",
      "source": [
        "train, test = train_test_split(data_clean, test_size=0.30, random_state=1)\n",
        "X_train = train['text'].values\n",
        "X_test = test['text'].values\n",
        "y_train = train['S']\n",
        "y_test = test['S']"
      ],
      "metadata": {
        "id": "kMrz02leYumw"
      },
      "execution_count": null,
      "outputs": []
    },
    {
      "cell_type": "code",
      "source": [
        "import pandas as pd\n",
        "import numpy as np\n",
        "from nltk.tokenize import word_tokenize\n",
        "from nltk import pos_tag\n",
        "from nltk.corpus import stopwords\n",
        "from nltk.stem import WordNetLemmatizer\n",
        "from sklearn.preprocessing import LabelEncoder\n",
        "from collections import defaultdict\n",
        "from nltk.corpus import wordnet as wn\n",
        "from sklearn.feature_extraction.text import TfidfVectorizer\n",
        "from sklearn import model_selection, naive_bayes, svm\n",
        "from sklearn.metrics import accuracy_score\n",
        "import nltk\n",
        "nltk.download('stopwords')\n",
        "\n",
        "\n",
        "def tokenize(text): \n",
        "    tknzr = TweetTokenizer()\n",
        "    return tknzr.tokenize(text)\n",
        "\n",
        "def stem(doc):\n",
        "    return (stemmer.stem(w) for w in analyzer(doc))\n",
        "\n",
        "en_stopwords = set(stopwords.words(\"italian\")) \n",
        "\n",
        "vectorizer = CountVectorizer(\n",
        "    analyzer = 'word',\n",
        "    tokenizer = tokenize,\n",
        "    lowercase = True,\n",
        "    ngram_range=(1, 1),\n",
        "    stop_words = en_stopwords)\n",
        "\n",
        "Tfidf_vect = TfidfVectorizer(max_features=5000)\n",
        "Tfidf_vect.fit(data_clean['text'])\n",
        "Train_X_Tfidf = Tfidf_vect.transform(X_train)\n",
        "Test_X_Tfidf = Tfidf_vect.transform(X_test)"
      ],
      "metadata": {
        "colab": {
          "base_uri": "https://localhost:8080/"
        },
        "id": "9ScB3JMOY0ne",
        "outputId": "d39611fc-91a0-44d4-e309-0dd7922981e2"
      },
      "execution_count": null,
      "outputs": [
        {
          "output_type": "stream",
          "name": "stderr",
          "text": [
            "[nltk_data] Downloading package stopwords to /root/nltk_data...\n",
            "[nltk_data]   Package stopwords is already up-to-date!\n"
          ]
        }
      ]
    },
    {
      "cell_type": "code",
      "source": [
        "# fit the training dataset on the NB classifier\n",
        "Naive = naive_bayes.MultinomialNB()\n",
        "Naive.fit(Train_X_Tfidf,y_train)\n",
        "# predict the labels on validation dataset\n",
        "predictions_NB = Naive.predict(Test_X_Tfidf)\n",
        "# Use accuracy_score function to get the accuracy\n",
        "print(\"Naive Bayes Accuracy Score -> \",accuracy_score(predictions_NB, y_test)*100)"
      ],
      "metadata": {
        "colab": {
          "base_uri": "https://localhost:8080/"
        },
        "id": "zTg_GqudWOP3",
        "outputId": "a9886118-0104-40ae-8c98-e55601dbd5c0"
      },
      "execution_count": null,
      "outputs": [
        {
          "output_type": "stream",
          "name": "stdout",
          "text": [
            "Naive Bayes Accuracy Score ->  88.26291079812206\n"
          ]
        }
      ]
    },
    {
      "cell_type": "code",
      "source": [
        "# importing seaborn\n",
        "import seaborn as sns\n",
        "\n",
        "# Making the Confusion Matrix\n",
        "from sklearn.metrics import confusion_matrix\n",
        "\n",
        "# providing actual and predicted values\n",
        "cm = confusion_matrix(y_test, predictions_NB)\n",
        "\n",
        "# If True, write the data value in each cell\n",
        "sns.heatmap(cm,annot=True)\n",
        "\n",
        "# saving confusion matrix in png form\n",
        "plt.savefig('confusion_Matrix.png')\n",
        "print(cm)"
      ],
      "metadata": {
        "colab": {
          "base_uri": "https://localhost:8080/",
          "height": 319
        },
        "id": "7cNAf3FNZ4Ft",
        "outputId": "5ed383b7-5fe6-45ef-e2e7-c09eeef0b1a9"
      },
      "execution_count": null,
      "outputs": [
        {
          "output_type": "stream",
          "name": "stdout",
          "text": [
            "[[2621    0    0]\n",
            " [ 141    3    0]\n",
            " [ 209    0    8]]\n"
          ]
        },
        {
          "output_type": "display_data",
          "data": {
            "text/plain": [
              "<Figure size 432x288 with 2 Axes>"
            ],
            "image/png": "[encoded data removed]"
          },
          "metadata": {
            "image/png": {
              "width": 359,
              "height": 248
            },
            "needs_background": "light"
          }
        }
      ]
    },
    {
      "cell_type": "code",
      "source": [
        "# importing classification report\n",
        "from sklearn.metrics import classification_report\n",
        "\n",
        "# printing the report\n",
        "print(classification_report(y_test, predictions_NB))"
      ],
      "metadata": {
        "colab": {
          "base_uri": "https://localhost:8080/"
        },
        "id": "h6qBGOQ8gUsP",
        "outputId": "51db4c20-0f78-467d-d855-22266c0ac7dd"
      },
      "execution_count": null,
      "outputs": [
        {
          "output_type": "stream",
          "name": "stdout",
          "text": [
            "              precision    recall  f1-score   support\n",
            "\n",
            "          -1       0.88      1.00      0.94      2621\n",
            "           0       1.00      0.02      0.04       144\n",
            "           1       1.00      0.04      0.07       217\n",
            "\n",
            "    accuracy                           0.88      2982\n",
            "   macro avg       0.96      0.35      0.35      2982\n",
            "weighted avg       0.90      0.88      0.83      2982\n",
            "\n"
          ]
        }
      ]
    },
    {
      "cell_type": "code",
      "source": [
        "from sklearn.metrics import recall_score, precision_score\n",
        "from sklearn.model_selection import GridSearchCV\n",
        "\n",
        "# Classifier - Algorithm - SVM\n",
        "# fit the training dataset on the classifier\n",
        "SVM = svm.SVC(C=1.0, kernel='rbf', degree=3, gamma='auto')\n",
        "SVM.fit(Train_X_Tfidf, y_train)\n",
        "# predict the labels on validation dataset\n",
        "predictions_SVM = SVM.predict(Test_X_Tfidf)\n",
        "# Use accuracy_score function to get the accuracy\n",
        "print(\"SVM Accuracy Score -> \",accuracy_score(predictions_SVM, y_test)*100)\n",
        "\n"
      ],
      "metadata": {
        "colab": {
          "base_uri": "https://localhost:8080/"
        },
        "id": "5ZrlUOJXSDJD",
        "outputId": "ca31e172-0e57-49c5-d58f-04e5e5e33d62"
      },
      "execution_count": null,
      "outputs": [
        {
          "output_type": "stream",
          "name": "stdout",
          "text": [
            "SVM Accuracy Score ->  87.89403085177733\n"
          ]
        }
      ]
    },
    {
      "cell_type": "code",
      "source": [
        "# importing seaborn\n",
        "import seaborn as sns\n",
        "\n",
        "# Making the Confusion Matrix\n",
        "from sklearn.metrics import confusion_matrix\n",
        "\n",
        "# providing actual and predicted values\n",
        "cm = confusion_matrix(y_test, predictions_SVM)\n",
        "\n",
        "# If True, write the data value in each cell\n",
        "sns.heatmap(cm,annot=True)\n",
        "\n",
        "# saving confusion matrix in png form\n",
        "plt.savefig('confusion_Matrix.png')\n",
        "print(cm)"
      ],
      "metadata": {
        "colab": {
          "base_uri": "https://localhost:8080/",
          "height": 319
        },
        "id": "l_rkEx1BYEAQ",
        "outputId": "ef7cf1db-04a9-4905-a31e-b3f478ddf4b4"
      },
      "execution_count": null,
      "outputs": [
        {
          "output_type": "stream",
          "name": "stdout",
          "text": [
            "[[2621    0    0]\n",
            " [ 144    0    0]\n",
            " [ 217    0    0]]\n"
          ]
        },
        {
          "output_type": "display_data",
          "data": {
            "text/plain": [
              "<Figure size 432x288 with 2 Axes>"
            ],
            "image/png": "[encoded data removed]"
          },
          "metadata": {
            "image/png": {
              "width": 359,
              "height": 248
            },
            "needs_background": "light"
          }
        }
      ]
    },
    {
      "cell_type": "code",
      "source": [
        "# importing classification report\n",
        "from sklearn.metrics import classification_report\n",
        "\n",
        "# printing the report\n",
        "print(classification_report(y_test, predictions_SVM))"
      ],
      "metadata": {
        "colab": {
          "base_uri": "https://localhost:8080/"
        },
        "id": "wtY4YlKKZrie",
        "outputId": "c7540a55-4fae-4e18-e3e9-492708d1e776"
      },
      "execution_count": null,
      "outputs": [
        {
          "output_type": "stream",
          "name": "stdout",
          "text": [
            "              precision    recall  f1-score   support\n",
            "\n",
            "          -1       0.88      1.00      0.94      2621\n",
            "           0       0.00      0.00      0.00       144\n",
            "           1       0.00      0.00      0.00       217\n",
            "\n",
            "    accuracy                           0.88      2982\n",
            "   macro avg       0.29      0.33      0.31      2982\n",
            "weighted avg       0.77      0.88      0.82      2982\n",
            "\n"
          ]
        },
        {
          "output_type": "stream",
          "name": "stderr",
          "text": [
            "/usr/local/lib/python3.7/dist-packages/sklearn/metrics/_classification.py:1318: UndefinedMetricWarning: Precision and F-score are ill-defined and being set to 0.0 in labels with no predicted samples. Use `zero_division` parameter to control this behavior.\n",
            "  _warn_prf(average, modifier, msg_start, len(result))\n",
            "/usr/local/lib/python3.7/dist-packages/sklearn/metrics/_classification.py:1318: UndefinedMetricWarning: Precision and F-score are ill-defined and being set to 0.0 in labels with no predicted samples. Use `zero_division` parameter to control this behavior.\n",
            "  _warn_prf(average, modifier, msg_start, len(result))\n",
            "/usr/local/lib/python3.7/dist-packages/sklearn/metrics/_classification.py:1318: UndefinedMetricWarning: Precision and F-score are ill-defined and being set to 0.0 in labels with no predicted samples. Use `zero_division` parameter to control this behavior.\n",
            "  _warn_prf(average, modifier, msg_start, len(result))\n"
          ]
        }
      ]
    }
  ]
}